{
 "cells": [
  {
   "cell_type": "markdown",
   "id": "c484f9ad",
   "metadata": {},
   "source": [
    "# Subtask 1: Text Analysis\n",
    "## Identify Persuasion Techniques in Textual Context Only"
   ]
  },
  {
   "cell_type": "markdown",
   "id": "ea40ea1c",
   "metadata": {},
   "source": [
    "### Load and Preproccess the Data"
   ]
  },
  {
   "cell_type": "code",
   "execution_count": 1,
   "id": "99b7025f",
   "metadata": {},
   "outputs": [],
   "source": [
    "import pandas as pd\n",
    "import json\n",
    "import re\n",
    "import numpy as np\n",
    "import matplotlib.pyplot as plt \n",
    "from sklearn.preprocessing import MultiLabelBinarizer\n",
    "from sklearn.utils import resample\n",
    "from transformers import RobertaTokenizer\n",
    "import torch\n",
    "from torch.utils.data import DataLoader, Dataset\n",
    "import spacy\n",
    "from contractions import fix"
   ]
  },
  {
   "cell_type": "code",
   "execution_count": 2,
   "id": "f4b027d0",
   "metadata": {},
   "outputs": [],
   "source": [
    "# Utility Functions\n",
    "def load_data(file_path):\n",
    "    \"\"\"Load JSON data from file and return as DataFrame.\"\"\"\n",
    "    with open(file_path, 'r') as file:\n",
    "        data = json.load(file)\n",
    "    return pd.DataFrame(data)\n",
    "\n",
    "def clean_text(text):\n",
    "    \"\"\"Remove URLs, mentions, special characters, and normalize whitespace and case.\"\"\"\n",
    "    text = text.replace(\"\\n\", \" \")\n",
    "    text = re.sub(r\"http\\S+|www\\S+|https\\S+\", \"\", text, flags=re.MULTILINE)\n",
    "    text = re.sub(r\"@\\w+|#\\w+\", \"\", text)\n",
    "    text = re.sub(r\"[^a-zA-Z\\s]\", \"\", text)\n",
    "    text = text.lower()\n",
    "    text = re.sub(r\"\\s+\", \" \", text).strip()\n",
    "    return text\n",
    "\n",
    "def process_dataset(dataset, mlb):\n",
    "    \"\"\"Process dataset by cleaning text, balancing labels, and encoding labels.\"\"\"\n",
    "    dataset['cleaned_text'] = dataset['text'].apply(clean_text)\n",
    "    dataset = dataset[dataset['labels'].apply(len) > 0]\n",
    "    dataset = balance_labels(dataset, 'labels')\n",
    "    dataset['encoded_labels'] = mlb.fit_transform(dataset['labels']).tolist()\n",
    "    return dataset\n",
    "\n",
    "def balance_labels(df, label_column):\n",
    "    \"\"\"Balance the dataset by oversampling labels that appear less than 300 times.\"\"\"\n",
    "    all_labels = [label for labels in df[label_column] for label in labels]\n",
    "    label_counts = pd.Series(all_labels).value_counts()\n",
    "    rare_labels = label_counts[label_counts < 300].index.tolist()\n",
    "    oversampled_data = [resample(df[df[label_column].apply(lambda x: label in x)],\n",
    "                                 replace=True, n_samples=300, random_state=42)\n",
    "                        for label in rare_labels]\n",
    "    return pd.concat([df] + oversampled_data).sample(frac=1, random_state=42).reset_index(drop=True)\n"
   ]
  },
  {
   "cell_type": "code",
   "execution_count": null,
   "id": "c3b6d093",
   "metadata": {},
   "outputs": [
    {
     "name": "stdout",
     "output_type": "stream",
     "text": [
      "Training Dataset Length: 7836\n",
      "Validation Dataset Length: 6412\n",
      "Sample Original Text from Training: 0                             FREE RAMAN PRATASEVICH\\n\n",
      "1    \\ALL WE NEED IS THE RIGHT MAJOR CRISIS, AND TH...\n",
      "2    NOLTE: POLLING SHOWS MAJORITY BLAME BIDEN FOR\\...\n",
      "3    JOURNALIST ARRESTED IN MINSK AIRPORT AFTER EME...\n",
      "4    Make them live under the laws they create.\\n\\n...\n",
      "Name: text, dtype: object\n",
      "Sample Cleaned Text from Training: 0                              free raman pratasevichn\n",
      "1    all we need is the right major crisis and the ...\n",
      "2    nolte polling shows majority blame biden forna...\n",
      "3    journalist arrested in minsk airport after eme...\n",
      "4    make them live under the laws they creatennexe...\n",
      "Name: cleaned_text, dtype: object\n",
      "Sample Encoded Labels from Training: 0    [0, 0, 0, 0, 0, 0, 0, 0, 0, 0, 0, 0, 0, 0, 0, ...\n",
      "1    [1, 0, 0, 0, 0, 0, 0, 0, 0, 1, 0, 0, 0, 0, 0, ...\n",
      "2    [0, 0, 1, 0, 0, 1, 0, 0, 0, 0, 0, 0, 0, 0, 0, ...\n",
      "3    [0, 0, 0, 1, 0, 0, 0, 0, 0, 0, 0, 0, 0, 0, 0, ...\n",
      "4    [0, 0, 0, 0, 0, 0, 0, 0, 0, 0, 0, 0, 0, 0, 0, ...\n",
      "Name: encoded_labels, dtype: object\n"
     ]
    }
   ],
   "source": [
    "# Load datasets\n",
    "train_file_path = 'train.json'\n",
    "validation_file_path = 'validation.json'\n",
    "train_data = load_data(train_file_path)\n",
    "validation_data = load_data(validation_file_path)\n",
    "\n",
    "# Initialize MultiLabelBinarizer\n",
    "mlb = MultiLabelBinarizer()\n",
    "\n",
    "# Process both datasets\n",
    "train_data = process_dataset(train_data, mlb)\n",
    "validation_data = process_dataset(validation_data, mlb)\n",
    "\n",
    "# Initialize tokenizer\n",
    "tokenizer = RobertaTokenizer.from_pretrained(\"roberta-base\")\n",
    "\n",
    "# Tokenize text for both datasets\n",
    "train_encodings = tokenizer(train_data['cleaned_text'].tolist(), truncation=True, padding=\"max_length\", max_length=128, return_tensors=\"pt\")\n",
    "validation_encodings = tokenizer(validation_data['cleaned_text'].tolist(), truncation=True, padding=\"max_length\", max_length=128, return_tensors=\"pt\")\n",
    "\n",
    "# Define MultilabelDataset class\n",
    "class MultilabelDataset(Dataset):\n",
    "    \"\"\"Custom dataset for handling multilabel data.\"\"\"\n",
    "    def __init__(self, encodings, labels):\n",
    "        self.encodings = encodings\n",
    "        self.labels = labels\n",
    "\n",
    "    def __len__(self):\n",
    "        return len(self.labels)\n",
    "\n",
    "    def __getitem__(self, idx):\n",
    "        item = {key: torch.tensor(val[idx]) for key, val in self.encodings.items()}\n",
    "        item['labels'] = torch.tensor(self.labels[idx], dtype=torch.float)\n",
    "        return item\n",
    "\n",
    "# Create datasets\n",
    "train_dataset = MultilabelDataset(train_encodings, train_data['encoded_labels'])\n",
    "validation_dataset = MultilabelDataset(validation_encodings, validation_data['encoded_labels'])\n",
    "\n",
    "\n",
    "print(f\"Training Dataset Length: {len(train_dataset)}\")\n",
    "print(f\"Validation Dataset Length: {len(validation_dataset)}\")\n",
    "print(f\"Sample Original Text from Training: {train_data['text'].iloc[:5]}\")\n",
    "print(f\"Sample Cleaned Text from Training: {train_data['cleaned_text'].iloc[:5]}\")\n",
    "print(f\"Sample Encoded Labels from Training: {train_data['encoded_labels'][:5]}\")\n"
   ]
  },
  {
   "cell_type": "markdown",
   "id": "4cbbf9b1",
   "metadata": {},
   "source": [
    "### Encode Labels and Analyze Distribution"
   ]
  },
  {
   "cell_type": "code",
   "execution_count": null,
   "id": "43f22f40",
   "metadata": {},
   "outputs": [
    {
     "name": "stdout",
     "output_type": "stream",
     "text": [
      "Training Label Distribution:\n",
      "Smears                                                 2760\n",
      "Loaded Language                                        2421\n",
      "Name calling/Labeling                                  1988\n",
      "Appeal to authority                                    1097\n",
      "Black-and-white Fallacy/Dictatorship                    895\n",
      "Slogans                                                 853\n",
      "Flag-waving                                             690\n",
      "Thought-terminating cliché                              653\n",
      "Causal Oversimplification                               611\n",
      "Whataboutism                                            594\n",
      "Glittering generalities (Virtue)                        573\n",
      "Appeal to fear/prejudice                                504\n",
      "Exaggeration/Minimisation                               492\n",
      "Doubt                                                   463\n",
      "Repetition                                              420\n",
      "Bandwagon                                               411\n",
      "Presenting Irrelevant Data (Red Herring)                372\n",
      "Misrepresentation of Someone's Position (Straw Man)     368\n",
      "Reductio ad hitlerum                                    367\n",
      "Obfuscation, Intentional vagueness, Confusion           321\n",
      "dtype: int64\n"
     ]
    }
   ],
   "source": [
    "# Create a binary label matrix for inspection\n",
    "train_label_matrix = pd.DataFrame(mlb.transform(train_data['labels']), columns=mlb.classes_)\n",
    "\n",
    "# Add the binary label matrix to the training data\n",
    "train_data = pd.concat([train_data, train_label_matrix], axis=1)\n",
    "\n",
    "# labels distribution \n",
    "print(\"Training Label Distribution:\")\n",
    "print(train_label_matrix.sum().sort_values(ascending=False))\n"
   ]
  },
  {
   "cell_type": "markdown",
   "id": "b77e520e",
   "metadata": {},
   "source": [
    "### Feature Extraction Using TF-IDF"
   ]
  },
  {
   "cell_type": "code",
   "execution_count": 5,
   "id": "52e92c4f",
   "metadata": {},
   "outputs": [
    {
     "name": "stdout",
     "output_type": "stream",
     "text": [
      "TF-IDF Features (Training): (7836, 5000)\n",
      "TF-IDF Features (Validation): (6412, 5000)\n",
      "Sample Features: ['abandoned' 'ability' 'able' 'abortion' 'absolute' 'absolute loyalty'\n",
      " 'absolutely' 'abuse' 'abusing' 'accept']\n"
     ]
    }
   ],
   "source": [
    "from sklearn.feature_extraction.text import TfidfVectorizer\n",
    "\n",
    "# Initialize TF-IDF vectorizer\n",
    "vectorizer = TfidfVectorizer(\n",
    "    max_features=5000,  \n",
    "    ngram_range=(1, 2), \n",
    "    stop_words='english'  \n",
    ")\n",
    "\n",
    "# Fit TF-IDF on training data and transform training \n",
    "X_train = vectorizer.fit_transform(train_data['cleaned_text'])\n",
    "print(f\"TF-IDF Features (Training): {X_train.shape}\")\n",
    "\n",
    "# Transform validation data using the same vectorizer\n",
    "X_val = vectorizer.transform(validation_data['cleaned_text'])\n",
    "print(f\"TF-IDF Features (Validation): {X_val.shape}\")\n",
    "\n",
    "# Get feature names to understand what kind of features TF-IDF has learned\n",
    "feature_names = vectorizer.get_feature_names_out()\n",
    "print(f\"Sample Features: {feature_names[:10]}\")\n"
   ]
  },
  {
   "cell_type": "markdown",
   "id": "f5b6f09c",
   "metadata": {},
   "source": [
    "### Analyzing Label Frequency Distribution in the Training Dataset"
   ]
  },
  {
   "cell_type": "code",
   "execution_count": 6,
   "id": "6628378e",
   "metadata": {},
   "outputs": [
    {
     "data": {
      "image/png": "[encoded data removed]",
      "text/plain": [
       "<Figure size 640x480 with 1 Axes>"
      ]
     },
     "metadata": {},
     "output_type": "display_data"
    }
   ],
   "source": [
    "# Fit and transform labels for training data\n",
    "train_data['encoded_labels'] = mlb.fit_transform(train_data['labels']).tolist()\n",
    "y_train = np.array(train_data['encoded_labels'].tolist())\n",
    "\n",
    "# Transform labels for validation data\n",
    "validation_data['encoded_labels'] = mlb.transform(validation_data['labels']).tolist()\n",
    "y_val = np.array(validation_data['encoded_labels'].tolist())\n",
    "\n",
    "# Remove samples with empty labels (optional)\n",
    "train_data = train_data[train_data['labels'].apply(len) > 0]\n",
    "validation_data = validation_data[validation_data['labels'].apply(len) > 0]\n",
    "\n",
    "# Verify label distribution \n",
    "label_counts = y_train.sum(axis=0)\n",
    "\n",
    "# label distribution\n",
    "plt.barh(mlb.classes_, label_counts)\n",
    "plt.xlabel(\"Frequency\")\n",
    "plt.ylabel(\"Labels\")\n",
    "plt.title(\"Label Distribution in Training Data\")\n",
    "plt.show()\n"
   ]
  },
  {
   "cell_type": "markdown",
   "id": "eb3bd639",
   "metadata": {},
   "source": [
    "## Training"
   ]
  },
  {
   "cell_type": "code",
   "execution_count": 8,
   "id": "28e4ad45",
   "metadata": {},
   "outputs": [
    {
     "name": "stdout",
     "output_type": "stream",
     "text": [
      "Training Performance:\n",
      "Precision: 0.6454\n",
      "Recall: 0.9103\n",
      "F1 Score: 0.7553\n",
      "Accuracy: 0.3758\n",
      "Text: FREE RAMAN PRATASEVICH\\n\n",
      "True Labels: ['Slogans']\n",
      "Predicted Labels: ('Repetition', 'Slogans', 'Smears')\n",
      "--------------------------------------------------\n",
      "Text: \\ALL WE NEED IS THE RIGHT MAJOR CRISIS, AND THE NATIONS WILL ACCEPT THE NEW WORLD ORDER.\\\\n\\n- DAVID ROCKEFELLER\n",
      "True Labels: ['Appeal to authority', 'Loaded Language', 'Thought-terminating cliché']\n",
      "Predicted Labels: ('Appeal to authority', 'Black-and-white Fallacy/Dictatorship', 'Thought-terminating cliché')\n",
      "--------------------------------------------------\n",
      "Text: NOLTE: POLLING SHOWS MAJORITY BLAME BIDEN FOR\\nAFGHANISTAN, TRUMP WOULD WIN RE-VOTE\\n\n",
      "True Labels: ['Doubt', 'Bandwagon', 'Thought-terminating cliché']\n",
      "Predicted Labels: ('Bandwagon', 'Doubt', 'Thought-terminating cliché')\n",
      "--------------------------------------------------\n"
     ]
    }
   ],
   "source": [
    "from sklearn.linear_model import LogisticRegression\n",
    "from sklearn.multiclass import OneVsRestClassifier\n",
    "from sklearn.metrics import precision_recall_fscore_support, accuracy_score\n",
    "\n",
    "# Initialize One-vs-Rest Logistic Regression\n",
    "lr_model = OneVsRestClassifier(LogisticRegression(max_iter=1000, class_weight=\"balanced\"))\n",
    "lr_model.fit(X_train, y_train)\n",
    "y_train_pred = lr_model.predict(X_train)\n",
    "\n",
    "# Evaluate the model on the training set\n",
    "precision, recall, f1, _ = precision_recall_fscore_support(y_train, y_train_pred, average=\"micro\")\n",
    "accuracy = accuracy_score(y_train, y_train_pred)\n",
    "\n",
    "print(\"Training Performance:\")\n",
    "print(f\"Precision: {precision:.4f}\")\n",
    "print(f\"Recall: {recall:.4f}\")\n",
    "print(f\"F1 Score: {f1:.4f}\")\n",
    "print(f\"Accuracy: {accuracy:.4f}\")\n",
    "\n",
    "# Inspect predictions for a few samples\n",
    "predicted_labels_train = mlb.inverse_transform(y_train_pred)\n",
    "for idx, text in enumerate(train_data['text'].head(3)):\n",
    "    print(f\"Text: {text}\")\n",
    "    print(f\"True Labels: {train_data['labels'].iloc[idx]}\")\n",
    "    print(f\"Predicted Labels: {predicted_labels_train[idx]}\")\n",
    "    print(\"-\" * 50)\n"
   ]
  },
  {
   "cell_type": "markdown",
   "id": "609c2221",
   "metadata": {},
   "source": [
    "### 6. Validation: "
   ]
  },
  {
   "cell_type": "code",
   "execution_count": 9,
   "id": "b21823b8",
   "metadata": {},
   "outputs": [
    {
     "name": "stdout",
     "output_type": "stream",
     "text": [
      "Validation Performance:\n",
      "Precision: 0.3148\n",
      "Recall: 0.3762\n",
      "F1 Score: 0.3428\n",
      "Accuracy: 0.0073\n"
     ]
    }
   ],
   "source": [
    "# Retrain the logistic regression model if needed (only if C or other params are adjusted)\n",
    "lr_model = OneVsRestClassifier(LogisticRegression(max_iter=1000, class_weight=\"balanced\", C=0.1))\n",
    "lr_model.fit(X_train, y_train)\n",
    "\n",
    "# Predict on validation set\n",
    "y_val_pred = lr_model.predict(X_val)\n",
    "\n",
    "# Evaluate the validation performance\n",
    "from sklearn.metrics import precision_recall_fscore_support, accuracy_score\n",
    "precision, recall, f1, _ = precision_recall_fscore_support(y_val, y_val_pred, average=\"micro\")\n",
    "accuracy = accuracy_score(y_val, y_val_pred)\n",
    "\n",
    "# Output performance\n",
    "print(\"Validation Performance:\")\n",
    "print(f\"Precision: {precision:.4f}\")\n",
    "print(f\"Recall: {recall:.4f}\")\n",
    "print(f\"F1 Score: {f1:.4f}\")\n",
    "print(f\"Accuracy: {accuracy:.4f}\")\n"
   ]
  },
  {
   "cell_type": "code",
   "execution_count": 12,
   "id": "3a8c821e",
   "metadata": {},
   "outputs": [
    {
     "name": "stdout",
     "output_type": "stream",
     "text": [
      "Validation Performance with Combined Features:\n",
      "Precision: 0.3054\n",
      "Recall: 0.4088\n",
      "F1 Score: 0.3496\n",
      "Accuracy: 0.0170\n"
     ]
    }
   ],
   "source": [
    "# Load pretrained embeddings (GloVe embeddings)\n",
    "import gensim.downloader as api\n",
    "from sklearn.preprocessing import normalize\n",
    "\n",
    "\n",
    "embedding_model = api.load(\"glove-wiki-gigaword-50\")  \n",
    "\n",
    "def text_to_embedding(text, embedding_model, vector_size=50):\n",
    "    \"\"\"Convert text to an average word embedding.\"\"\"\n",
    "    words = text.split()\n",
    "    embeddings = [embedding_model[word] for word in words if word in embedding_model]\n",
    "    if embeddings:\n",
    "        return np.mean(embeddings, axis=0)\n",
    "    else:\n",
    "        return np.zeros(vector_size)\n",
    "\n",
    "# Generate word embeddings for training and validation\n",
    "X_train_embeddings = np.array([text_to_embedding(text, embedding_model) for text in train_data['cleaned_text']])\n",
    "X_val_embeddings = np.array([text_to_embedding(text, embedding_model) for text in validation_data['cleaned_text']])\n",
    "\n",
    "# Combine TF-IDF features and word embeddings\n",
    "X_train_combined = np.hstack([normalize(X_train.toarray()), normalize(X_train_embeddings)])\n",
    "X_val_combined = np.hstack([normalize(X_val.toarray()), normalize(X_val_embeddings)])\n",
    "\n",
    "# Train Logistic Regression on combined features\n",
    "lr_model = OneVsRestClassifier(LogisticRegression(max_iter=1000, class_weight=\"balanced\", C=1))\n",
    "lr_model.fit(X_train_combined, y_train)\n",
    "\n",
    "# Predict and Evaluate on Validation Set\n",
    "y_val_pred = lr_model.predict(X_val_combined)\n",
    "\n",
    "precision, recall, f1, _ = precision_recall_fscore_support(y_val, y_val_pred, average=\"micro\")\n",
    "accuracy = accuracy_score(y_val, y_val_pred)\n",
    "\n",
    "print(\"Validation Performance with Combined Features:\")\n",
    "print(f\"Precision: {precision:.4f}\")\n",
    "print(f\"Recall: {recall:.4f}\")\n",
    "print(f\"F1 Score: {f1:.4f}\")\n",
    "print(f\"Accuracy: {accuracy:.4f}\")"
   ]
  },
  {
   "cell_type": "markdown",
   "id": "07fcdd4f",
   "metadata": {},
   "source": [
    "# Advanced Models: DeBERTa Multilabel Classification"
   ]
  },
  {
   "cell_type": "code",
   "execution_count": 8,
   "id": "b2528bd6",
   "metadata": {},
   "outputs": [],
   "source": [
    "#!pip install transformers datasets"
   ]
  },
  {
   "cell_type": "code",
   "execution_count": 9,
   "id": "34dfb25e",
   "metadata": {},
   "outputs": [],
   "source": [
    "#import torch\n",
    "\n",
    "#device = torch.device(\"mps\") if torch.backends.mps.is_available() else torch.device(\"cpu\")\n",
    "#print(f\"Using device: {device}\")\n",
    "#model.to(device)\n"
   ]
  },
  {
   "cell_type": "code",
   "execution_count": 7,
   "id": "df57f529",
   "metadata": {},
   "outputs": [],
   "source": [
    "from sklearn.metrics import accuracy_score, precision_recall_fscore_support\n",
    "\n",
    "def compute_metrics(eval_pred):\n",
    "    logits, labels = eval_pred\n",
    "    # Convert logits to binary predictions using a threshold of 0.5\n",
    "    predictions = (logits.sigmoid().numpy() > 0.5).astype(int)\n",
    "\n",
    "    # Compute metrics \n",
    "    acc = accuracy_score(labels, predictions)\n",
    "    precision, recall, f1, _ = precision_recall_fscore_support(labels, predictions, average='micro')\n",
    "\n",
    "    return {\n",
    "        \"accuracy\": acc,\n",
    "        \"precision\": precision,\n",
    "        \"recall\": recall,\n",
    "        \"f1\": f1\n",
    "    }\n"
   ]
  },
  {
   "cell_type": "code",
   "execution_count": 11,
   "id": "2db14bbb",
   "metadata": {},
   "outputs": [
    {
     "name": "stderr",
     "output_type": "stream",
     "text": [
      "Some weights of RobertaForSequenceClassification were not initialized from the model checkpoint at roberta-base and are newly initialized: ['classifier.dense.bias', 'classifier.dense.weight', 'classifier.out_proj.bias', 'classifier.out_proj.weight']\n",
      "You should probably TRAIN this model on a down-stream task to be able to use it for predictions and inference.\n",
      "/Users/niloofarkarimi/anaconda3/lib/python3.11/site-packages/transformers/training_args.py:1575: FutureWarning: `evaluation_strategy` is deprecated and will be removed in version 4.46 of 🤗 Transformers. Use `eval_strategy` instead\n",
      "  warnings.warn(\n",
      "/var/folders/q0/54d0yrqj2dz0f0nfww0g5x1r0000gn/T/ipykernel_7663/213374786.py:52: UserWarning: To copy construct from a tensor, it is recommended to use sourceTensor.clone().detach() or sourceTensor.clone().detach().requires_grad_(True), rather than torch.tensor(sourceTensor).\n",
      "  item = {key: torch.tensor(val[idx]) for key, val in self.encodings.items()}\n"
     ]
    },
    {
     "data": {
      "text/html": [
       "\n",
       "    <div>\n",
       "      \n",
       "      <progress value='9800' max='9800' style='width:300px; height:20px; vertical-align: middle;'></progress>\n",
       "      [9800/9800 4:38:11, Epoch 10/10]\n",
       "    </div>\n",
       "    <table border=\"1\" class=\"dataframe\">\n",
       "  <thead>\n",
       " <tr style=\"text-align: left;\">\n",
       "      <th>Epoch</th>\n",
       "      <th>Training Loss</th>\n",
       "      <th>Validation Loss</th>\n",
       "      <th>Precision</th>\n",
       "      <th>Recall</th>\n",
       "      <th>F1 Score</th>\n",
       "      <th>Accuracy</th>\n",
       "    </tr>\n",
       "  </thead>\n",
       "  <tbody>\n",
       "    <tr>\n",
       "      <td>1</td>\n",
       "      <td>0.317300</td>\n",
       "      <td>0.314926</td>\n",
       "      <td>0.583959</td>\n",
       "      <td>0.166037</td>\n",
       "      <td>0.258558</td>\n",
       "      <td>0.018715</td>\n",
       "    </tr>\n",
       "    <tr>\n",
       "      <td>2</td>\n",
       "      <td>0.235000</td>\n",
       "      <td>0.302404</td>\n",
       "      <td>0.704087</td>\n",
       "      <td>0.227927</td>\n",
       "      <td>0.344373</td>\n",
       "      <td>0.030880</td>\n",
       "    </tr>\n",
       "    <tr>\n",
       "      <td>3</td>\n",
       "      <td>0.185600</td>\n",
       "      <td>0.306068</td>\n",
       "      <td>0.626547</td>\n",
       "      <td>0.280915</td>\n",
       "      <td>0.387909</td>\n",
       "      <td>0.043980</td>\n",
       "    </tr>\n",
       "    <tr>\n",
       "      <td>4</td>\n",
       "      <td>0.144500</td>\n",
       "      <td>0.318173</td>\n",
       "      <td>0.609820</td>\n",
       "      <td>0.324878</td>\n",
       "      <td>0.423917</td>\n",
       "      <td>0.048659</td>\n",
       "    </tr>\n",
       "    <tr>\n",
       "      <td>5</td>\n",
       "      <td>0.116400</td>\n",
       "      <td>0.332078</td>\n",
       "      <td>0.606947</td>\n",
       "      <td>0.337744</td>\n",
       "      <td>0.433989</td>\n",
       "      <td>0.065814</td>\n",
       "    </tr>\n",
       "    <tr>\n",
       "      <td>6</td>\n",
       "      <td>0.092100</td>\n",
       "      <td>0.346701</td>\n",
       "      <td>0.605662</td>\n",
       "      <td>0.356159</td>\n",
       "      <td>0.448549</td>\n",
       "      <td>0.060667</td>\n",
       "    </tr>\n",
       "    <tr>\n",
       "      <td>7</td>\n",
       "      <td>0.075000</td>\n",
       "      <td>0.361669</td>\n",
       "      <td>0.604933</td>\n",
       "      <td>0.352927</td>\n",
       "      <td>0.445779</td>\n",
       "      <td>0.068465</td>\n",
       "    </tr>\n",
       "    <tr>\n",
       "      <td>8</td>\n",
       "      <td>0.063000</td>\n",
       "      <td>0.369706</td>\n",
       "      <td>0.592533</td>\n",
       "      <td>0.402561</td>\n",
       "      <td>0.479413</td>\n",
       "      <td>0.070493</td>\n",
       "    </tr>\n",
       "    <tr>\n",
       "      <td>9</td>\n",
       "      <td>0.052500</td>\n",
       "      <td>0.383327</td>\n",
       "      <td>0.601412</td>\n",
       "      <td>0.384390</td>\n",
       "      <td>0.469013</td>\n",
       "      <td>0.074080</td>\n",
       "    </tr>\n",
       "    <tr>\n",
       "      <td>10</td>\n",
       "      <td>0.046600</td>\n",
       "      <td>0.386543</td>\n",
       "      <td>0.589976</td>\n",
       "      <td>0.392622</td>\n",
       "      <td>0.471480</td>\n",
       "      <td>0.076263</td>\n",
       "    </tr>\n",
       "  </tbody>\n",
       "</table><p>"
      ],
      "text/plain": [
       "<IPython.core.display.HTML object>"
      ]
     },
     "metadata": {},
     "output_type": "display_data"
    },
    {
     "name": "stderr",
     "output_type": "stream",
     "text": [
      "/var/folders/q0/54d0yrqj2dz0f0nfww0g5x1r0000gn/T/ipykernel_7663/213374786.py:52: UserWarning: To copy construct from a tensor, it is recommended to use sourceTensor.clone().detach() or sourceTensor.clone().detach().requires_grad_(True), rather than torch.tensor(sourceTensor).\n",
      "  item = {key: torch.tensor(val[idx]) for key, val in self.encodings.items()}\n",
      "/var/folders/q0/54d0yrqj2dz0f0nfww0g5x1r0000gn/T/ipykernel_7663/213374786.py:52: UserWarning: To copy construct from a tensor, it is recommended to use sourceTensor.clone().detach() or sourceTensor.clone().detach().requires_grad_(True), rather than torch.tensor(sourceTensor).\n",
      "  item = {key: torch.tensor(val[idx]) for key, val in self.encodings.items()}\n",
      "/var/folders/q0/54d0yrqj2dz0f0nfww0g5x1r0000gn/T/ipykernel_7663/213374786.py:52: UserWarning: To copy construct from a tensor, it is recommended to use sourceTensor.clone().detach() or sourceTensor.clone().detach().requires_grad_(True), rather than torch.tensor(sourceTensor).\n",
      "  item = {key: torch.tensor(val[idx]) for key, val in self.encodings.items()}\n",
      "/var/folders/q0/54d0yrqj2dz0f0nfww0g5x1r0000gn/T/ipykernel_7663/213374786.py:52: UserWarning: To copy construct from a tensor, it is recommended to use sourceTensor.clone().detach() or sourceTensor.clone().detach().requires_grad_(True), rather than torch.tensor(sourceTensor).\n",
      "  item = {key: torch.tensor(val[idx]) for key, val in self.encodings.items()}\n",
      "/var/folders/q0/54d0yrqj2dz0f0nfww0g5x1r0000gn/T/ipykernel_7663/213374786.py:52: UserWarning: To copy construct from a tensor, it is recommended to use sourceTensor.clone().detach() or sourceTensor.clone().detach().requires_grad_(True), rather than torch.tensor(sourceTensor).\n",
      "  item = {key: torch.tensor(val[idx]) for key, val in self.encodings.items()}\n",
      "/var/folders/q0/54d0yrqj2dz0f0nfww0g5x1r0000gn/T/ipykernel_7663/213374786.py:52: UserWarning: To copy construct from a tensor, it is recommended to use sourceTensor.clone().detach() or sourceTensor.clone().detach().requires_grad_(True), rather than torch.tensor(sourceTensor).\n",
      "  item = {key: torch.tensor(val[idx]) for key, val in self.encodings.items()}\n",
      "/var/folders/q0/54d0yrqj2dz0f0nfww0g5x1r0000gn/T/ipykernel_7663/213374786.py:52: UserWarning: To copy construct from a tensor, it is recommended to use sourceTensor.clone().detach() or sourceTensor.clone().detach().requires_grad_(True), rather than torch.tensor(sourceTensor).\n",
      "  item = {key: torch.tensor(val[idx]) for key, val in self.encodings.items()}\n",
      "/var/folders/q0/54d0yrqj2dz0f0nfww0g5x1r0000gn/T/ipykernel_7663/213374786.py:52: UserWarning: To copy construct from a tensor, it is recommended to use sourceTensor.clone().detach() or sourceTensor.clone().detach().requires_grad_(True), rather than torch.tensor(sourceTensor).\n",
      "  item = {key: torch.tensor(val[idx]) for key, val in self.encodings.items()}\n",
      "/var/folders/q0/54d0yrqj2dz0f0nfww0g5x1r0000gn/T/ipykernel_7663/213374786.py:52: UserWarning: To copy construct from a tensor, it is recommended to use sourceTensor.clone().detach() or sourceTensor.clone().detach().requires_grad_(True), rather than torch.tensor(sourceTensor).\n",
      "  item = {key: torch.tensor(val[idx]) for key, val in self.encodings.items()}\n",
      "/var/folders/q0/54d0yrqj2dz0f0nfww0g5x1r0000gn/T/ipykernel_7663/213374786.py:52: UserWarning: To copy construct from a tensor, it is recommended to use sourceTensor.clone().detach() or sourceTensor.clone().detach().requires_grad_(True), rather than torch.tensor(sourceTensor).\n",
      "  item = {key: torch.tensor(val[idx]) for key, val in self.encodings.items()}\n",
      "/var/folders/q0/54d0yrqj2dz0f0nfww0g5x1r0000gn/T/ipykernel_7663/213374786.py:52: UserWarning: To copy construct from a tensor, it is recommended to use sourceTensor.clone().detach() or sourceTensor.clone().detach().requires_grad_(True), rather than torch.tensor(sourceTensor).\n",
      "  item = {key: torch.tensor(val[idx]) for key, val in self.encodings.items()}\n"
     ]
    },
    {
     "data": {
      "text/html": [
       "\n",
       "    <div>\n",
       "      \n",
       "      <progress value='802' max='802' style='width:300px; height:20px; vertical-align: middle;'></progress>\n",
       "      [802/802 01:33]\n",
       "    </div>\n",
       "    "
      ],
      "text/plain": [
       "<IPython.core.display.HTML object>"
      ]
     },
     "metadata": {},
     "output_type": "display_data"
    },
    {
     "name": "stdout",
     "output_type": "stream",
     "text": [
      "Evaluation Results: {'eval_loss': 0.3024035096168518, 'eval_precision': 0.704087398756828, 'eval_recall': 0.2279268292682927, 'eval_f1_score': 0.34437330139573447, 'eval_accuracy': 0.030879600748596383, 'eval_runtime': 93.6926, 'eval_samples_per_second': 68.437, 'eval_steps_per_second': 8.56, 'epoch': 10.0}\n"
     ]
    }
   ],
   "source": [
    "from transformers import (\n",
    "    RobertaTokenizer,\n",
    "    RobertaForSequenceClassification,\n",
    "    Trainer,\n",
    "    TrainingArguments\n",
    ")\n",
    "from sklearn.preprocessing import MultiLabelBinarizer\n",
    "import torch\n",
    "from torch.utils.data import Dataset\n",
    "import numpy as np\n",
    "from sklearn.metrics import accuracy_score, f1_score, precision_score, recall_score\n",
    "import scipy.special\n",
    "\n",
    "# Initialize RoBERTa tokenizer\n",
    "tokenizer = RobertaTokenizer.from_pretrained(\"roberta-base\")\n",
    "\n",
    "# Function to tokenize text data\n",
    "def tokenize_function(texts, max_length=128):\n",
    "    return tokenizer(\n",
    "        texts,\n",
    "        max_length=max_length,\n",
    "        padding=\"max_length\",\n",
    "        truncation=True,\n",
    "        return_tensors=\"pt\",\n",
    "    )\n",
    "\n",
    "# Prepare tokenized datasets\n",
    "train_texts = train_data[\"cleaned_text\"].tolist()\n",
    "train_labels = train_data[\"labels\"]\n",
    "validation_texts = validation_data[\"cleaned_text\"].tolist()\n",
    "validation_labels = validation_data[\"labels\"]\n",
    "\n",
    "# Encode labels using MultiLabelBinarizer\n",
    "mlb = MultiLabelBinarizer()\n",
    "y_train = mlb.fit_transform(train_labels)\n",
    "y_val = mlb.transform(validation_labels)\n",
    "\n",
    "# Tokenize text data for training and validation\n",
    "train_encodings = tokenize_function(train_texts)\n",
    "val_encodings = tokenize_function(validation_texts)\n",
    "\n",
    "# Define a custom dataset for multi-label classification\n",
    "class MultilabelDataset(Dataset):\n",
    "    def __init__(self, encodings, labels):\n",
    "        self.encodings = encodings\n",
    "        self.labels = labels\n",
    "\n",
    "    def __len__(self):\n",
    "        return len(self.labels)\n",
    "\n",
    "    def __getitem__(self, idx):\n",
    "        item = {key: torch.tensor(val[idx]) for key, val in self.encodings.items()}\n",
    "        item[\"labels\"] = torch.tensor(self.labels[idx], dtype=torch.float32)\n",
    "        return item\n",
    "\n",
    "# Create datasets\n",
    "train_dataset = MultilabelDataset(train_encodings, y_train)\n",
    "val_dataset = MultilabelDataset(val_encodings, y_val)\n",
    "\n",
    "# Load RoBERTa model for multilabel classification\n",
    "model = RobertaForSequenceClassification.from_pretrained(\n",
    "    \"roberta-base\",\n",
    "    num_labels=len(mlb.classes_),\n",
    "    problem_type=\"multi_label_classification\"\n",
    ")\n",
    "\n",
    "training_args = TrainingArguments(\n",
    "    output_dir=\"./roberta_results\",\n",
    "    evaluation_strategy=\"epoch\",\n",
    "    save_strategy=\"epoch\",\n",
    "    learning_rate=2e-5,\n",
    "    per_device_train_batch_size=8,  \n",
    "    per_device_eval_batch_size=8,   \n",
    "    num_train_epochs=10,            \n",
    "    weight_decay=0.01,\n",
    "    logging_dir=\"./logs\",\n",
    "    logging_steps=500,              \n",
    "    save_steps=500,                 \n",
    "    save_total_limit=2,             \n",
    "    load_best_model_at_end=True,\n",
    "    metric_for_best_model=\"eval_loss\",\n",
    "    greater_is_better=False,\n",
    "    fp16=False                      \n",
    ")\n",
    "\n",
    "\n",
    "# Compute metrics function\n",
    "def compute_metrics(eval_pred):\n",
    "    logits, labels = eval_pred\n",
    "    predictions = (scipy.special.expit(logits) > 0.5).astype(int)\n",
    "    return {\n",
    "        'precision': precision_score(labels, predictions, average='micro'),\n",
    "        'recall': recall_score(labels, predictions, average='micro'),\n",
    "        'f1_score': f1_score(labels, predictions, average='micro'),\n",
    "        'accuracy': accuracy_score(labels, predictions)\n",
    "    }\n",
    "\n",
    "# Initialize Trainer\n",
    "trainer = Trainer(\n",
    "    model=model,\n",
    "    args=training_args,\n",
    "    train_dataset=train_dataset,\n",
    "    eval_dataset=val_dataset,\n",
    "    compute_metrics=compute_metrics\n",
    ")\n",
    "\n",
    "# Train the model\n",
    "trainer.train()\n",
    "\n",
    "# Evaluate the model\n",
    "evaluation_results = trainer.evaluate()\n",
    "print(\"Evaluation Results:\", evaluation_results)\n"
   ]
  },
  {
   "cell_type": "code",
   "execution_count": null,
   "id": "002ddd6b",
   "metadata": {},
   "outputs": [],
   "source": []
  },
  {
   "cell_type": "code",
   "execution_count": null,
   "id": "137683b1",
   "metadata": {},
   "outputs": [],
   "source": []
  },
  {
   "cell_type": "code",
   "execution_count": null,
   "id": "698be601",
   "metadata": {},
   "outputs": [],
   "source": []
  },
  {
   "cell_type": "code",
   "execution_count": null,
   "id": "f6bc0c80",
   "metadata": {},
   "outputs": [],
   "source": []
  },
  {
   "cell_type": "code",
   "execution_count": null,
   "id": "e425a294",
   "metadata": {},
   "outputs": [],
   "source": []
  },
  {
   "cell_type": "code",
   "execution_count": null,
   "id": "add172f7",
   "metadata": {},
   "outputs": [],
   "source": []
  },
  {
   "cell_type": "code",
   "execution_count": null,
   "id": "62d04f99",
   "metadata": {},
   "outputs": [],
   "source": []
  },
  {
   "cell_type": "code",
   "execution_count": null,
   "id": "527698f9",
   "metadata": {},
   "outputs": [],
   "source": []
  },
  {
   "cell_type": "code",
   "execution_count": null,
   "id": "93c1fccd",
   "metadata": {},
   "outputs": [],
   "source": []
  },
  {
   "cell_type": "code",
   "execution_count": null,
   "id": "dc52dd07",
   "metadata": {},
   "outputs": [],
   "source": []
  },
  {
   "cell_type": "code",
   "execution_count": null,
   "id": "596cc853",
   "metadata": {},
   "outputs": [],
   "source": []
  }
 ],
 "metadata": {
  "kernelspec": {
   "display_name": "Python 3 (ipykernel)",
   "language": "python",
   "name": "python3"
  },
  "language_info": {
   "codemirror_mode": {
    "name": "ipython",
    "version": 3
   },
   "file_extension": ".py",
   "mimetype": "text/x-python",
   "name": "python",
   "nbconvert_exporter": "python",
   "pygments_lexer": "ipython3",
   "version": "3.11.5"
  }
 },
 "nbformat": 4,
 "nbformat_minor": 5
}
